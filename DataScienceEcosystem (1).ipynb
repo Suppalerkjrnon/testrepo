{
 "cells": [
  {
   "cell_type": "markdown",
   "id": "c844f01e-d128-4a6d-8125-dd3839387d67",
   "metadata": {},
   "source": [
    "# Data Science Tools and Ecosystem"
   ]
  },
  {
   "cell_type": "markdown",
   "id": "443006eb-9789-4718-be9a-ae9a3e9600ef",
   "metadata": {},
   "source": [
    "## Introduction\n",
    "\n",
    "in this notebook, Data Science Tools and Ecosystem are summarized."
   ]
  },
  {
   "cell_type": "markdown",
   "id": "b22a9671-bdd8-4017-992a-3b876c6cb20a",
   "metadata": {},
   "source": [
    "### Some of the popular languages that Data Scientists use are:\n",
    "\n",
    "1. Python\n",
    "2. R\n",
    "3. SQL\n",
    "4. Scala\n",
    "5. Java\n",
    "\n"
   ]
  },
  {
   "cell_type": "markdown",
   "id": "82b7353d-690a-4c53-924c-16640a9b5aec",
   "metadata": {},
   "source": [
    "### Some of the commonly used libraries used by Data Scientists include:\n",
    "\n",
    "1. Pandas\n",
    "2. Numpy\n",
    "3. Matplotlib\n",
    "4. Seaborn\n",
    "5. Keras"
   ]
  },
  {
   "cell_type": "markdown",
   "id": "730c8538-7ac5-4315-9512-593752ad24af",
   "metadata": {},
   "source": [
    "### Data Science Tools\n",
    "\n",
    "Jupyter Notebooks  \n",
    "RStudio  \n",
    "Apache Zeppelin  "
   ]
  },
  {
   "cell_type": "markdown",
   "id": "c90e7c85-7dbe-4d5d-91b2-21bd6632ef3e",
   "metadata": {},
   "source": [
    "### Below are a few example of evaluating artimetic expressions in Python."
   ]
  },
  {
   "cell_type": "code",
   "execution_count": 9,
   "id": "b9255bf7-1e0a-450a-9b7c-3d7af56151f9",
   "metadata": {},
   "outputs": [
    {
     "data": {
      "text/plain": [
       "17"
      ]
     },
     "execution_count": 9,
     "metadata": {},
     "output_type": "execute_result"
    }
   ],
   "source": [
    "(3*4)+5\n",
    "\n",
    "# This a simple artihmetic expression to multiply then add integers.\n",
    "\n"
   ]
  },
  {
   "cell_type": "code",
   "execution_count": 10,
   "id": "0e5d5169-117b-485d-9a82-1fb968e7d54d",
   "metadata": {},
   "outputs": [
    {
     "data": {
      "text/plain": [
       "0.1388888888888889"
      ]
     },
     "execution_count": 10,
     "metadata": {},
     "output_type": "execute_result"
    }
   ],
   "source": [
    "(200/60)/24\n",
    "\n",
    "# This will convert 200 minutes to hours by diving by 60."
   ]
  },
  {
   "cell_type": "markdown",
   "id": "3b289e2e-6c0e-4d88-99bc-b6e89ba00827",
   "metadata": {},
   "source": [
    "<b>Objectives:</b>\n",
    "\n",
    "unordered list\n",
    "\n",
    " - List popular languages for Data Science\n",
    " - Commonly used libraries for Data Science\n",
    " - List of Data Science tools"
   ]
  },
  {
   "cell_type": "markdown",
   "id": "3999687d-cc42-4fc3-92a8-98c1d07dd4f4",
   "metadata": {},
   "source": [
    "## Author\n",
    "Suppalerk Petpon"
   ]
  },
  {
   "cell_type": "code",
   "execution_count": null,
   "id": "3c722b84-db65-4051-96d2-8bbd02ec8fc3",
   "metadata": {},
   "outputs": [],
   "source": []
  },
  {
   "cell_type": "code",
   "execution_count": null,
   "id": "c3c167ba-6ecf-4c9b-a812-8cdf130d6d4c",
   "metadata": {
    "tags": []
   },
   "outputs": [],
   "source": []
  }
 ],
 "metadata": {
  "kernelspec": {
   "display_name": "Python 3 (ipykernel)",
   "language": "python",
   "name": "python3"
  },
  "language_info": {
   "codemirror_mode": {
    "name": "ipython",
    "version": 3
   },
   "file_extension": ".py",
   "mimetype": "text/x-python",
   "name": "python",
   "nbconvert_exporter": "python",
   "pygments_lexer": "ipython3",
   "version": "3.10.8"
  }
 },
 "nbformat": 4,
 "nbformat_minor": 5
}
